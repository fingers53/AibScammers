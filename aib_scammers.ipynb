{
 "cells": [
  {
   "cell_type": "code",
   "execution_count": 8,
   "metadata": {},
   "outputs": [],
   "source": [
    "import requests\n",
    "import re\n",
    "import random\n",
    "from bs4 import BeautifulSoup\n",
    "import time"
   ]
  },
  {
   "cell_type": "markdown",
   "metadata": {},
   "source": [
    "## list of random user agents"
   ]
  },
  {
   "cell_type": "code",
   "execution_count": 9,
   "metadata": {},
   "outputs": [],
   "source": [
    "user_agents = [\n",
    "    'Mozilla/5.0 (iPhone; CPU iPhone OS 10_3_1 like Mac OS X) AppleWebKit/603.1.30 (KHTML, like Gecko) Version/10.0 Mobile/14E304 Safari/602.1',\n",
    "    'Mozilla/5.0 (Linux; U; Android 4.4.2; en-us; SCH-I535 Build/KOT49H) AppleWebKit/534.30 (KHTML, like Gecko) Version/4.0 Mobile Safari/534.30',\n",
    "    'Mozilla/5.0 (Linux; Android 7.0; SM-G930V Build/NRD90M) AppleWebKit/537.36 (KHTML, like Gecko) Chrome/59.0.3071.125 Mobile Safari/537.36',\n",
    "    'Mozilla/5.0 (compatible; MSIE 10.0; Windows Phone 8.0; Trident/6.0; IEMobile/10.0; ARM; Touch; NOKIA; Lumia 920)',\n",
    "    'Mozilla/5.0 (Linux; Android 7.0; SAMSUNG SM-G955U Build/NRD90M) AppleWebKit/537.36 (KHTML, like Gecko) SamsungBrowser/5.4 Chrome/51.0.2704.106 Mobile Safari/537.36',\n",
    "    'Mozilla/5.0 (Linux; U; Android 2.2; en-gb; Nexus One Build/FRF50) AppleWebKit/533.1 (KHTML, like Gecko) Version/4.0 Mobile Safari/533.1',\n",
    "    'Mozilla/5.0 (Linux; Android 7.0; SM-G930VC Build/NRD90M; wv) AppleWebKit/537.36 (KHTML, like Gecko) Version/4.0 Chrome/58.0.3029.83 Mobile Safari/537.36',\n",
    "    'Mozilla/5.0 (Linux; Android 8.0.0; SM-G960F Build/R16NW) AppleWebKit/537.36 (KHTML, like Gecko) Chrome/62.0.3202.84 Mobile Safari/537.36',\n",
    "    'Mozilla/5.0 (Linux; Android 7.0; SM-G892A Build/NRD90M; wv) AppleWebKit/537.36 (KHTML, like Gecko) Version/4.0 Chrome/60.0.3112.107 Mobile Safari/537.36',\n",
    "    'Mozilla/5.0 (Linux; Android 7.0; SM-G930VC Build/NRD90M; wv) AppleWebKit/537.36 (KHTML, like Gecko) Version/4.0 Chrome/58.0.3029.83 Mobile Safari/537.36',\n",
    "    'Mozilla/5.0 (Linux; Android 6.0.1; SM-G935S Build/MMB29K; wv) AppleWebKit/537.36 (KHTML, like Gecko) Version/4.0 Chrome/55.0.2883.91 Mobile Safari/537.36',\n",
    "    'Mozilla/5.0 (Linux; Android 6.0.1; SM-G920V Build/MMB29K) AppleWebKit/537.36 (KHTML, like Gecko) Chrome/52.0.2743.98 Mobile Safari/537.36',\n",
    "    'Mozilla/5.0 (Linux; Android 5.1.1; SM-G928X Build/LMY47X) AppleWebKit/537.36 (KHTML, like Gecko) Chrome/47.0.2526.83 Mobile Safari/537.36',\n",
    "    'Mozilla/5.0 (Linux; Android 6.0.1; Nexus 6P Build/MMB29P) AppleWebKit/537.36 (KHTML, like Gecko) Chrome/47.0.2526.83 Mobile Safari/537.36',\n",
    "    'Mozilla/5.0 (Linux; Android 7.1.1; G8231 Build/41.2.A.0.219; wv) AppleWebKit/537.36 (KHTML, like Gecko) Version/4.0 Chrome/59.0.3071.125 Mobile Safari/537.36',\n",
    "    'Mozilla/5.0 (Linux; Android 6.0.1; E6653 Build/32.2.A.0.253) AppleWebKit/537.36 (KHTML, like Gecko) Chrome/52.0.2743.98 Mobile Safari/537.36',\n",
    "    'Mozilla/5.0 (Linux; Android 6.0; HTC One X10 Build/MRA58K; wv) AppleWebKit/537.36 (KHTML, like Gecko) Version/4.0 Chrome/61.0.3163.98 Mobile Safari/537.36',\n",
    "    'Mozilla/5.0 (Linux; Android 6.0; HTC One M9 Build/MRA58K) AppleWebKit/537.36 (KHTML, like Gecko) Chrome/52.0.2743.98 Mobile Safari/537.3',\n",
    "    ]"
   ]
  },
  {
   "cell_type": "markdown",
   "metadata": {},
   "source": [
    "## generate registration number and pac numbers"
   ]
  },
  {
   "cell_type": "code",
   "execution_count": 10,
   "metadata": {},
   "outputs": [
    {
     "name": "stdout",
     "output_type": "stream",
     "text": [
      "89125619 \n",
      " 86859\n"
     ]
    }
   ],
   "source": [
    "reg_number = str(random.randint(1000_0000,9999_9999))\n",
    "pac_numbers = str(random.randint(10_000,99_999))\n",
    "print(reg_number,'\\n',pac_numbers)"
   ]
  },
  {
   "cell_type": "markdown",
   "metadata": {},
   "source": [
    "## scrape Irish IP addressses from this website: https://www.nirsoft.net/countryip/ie.html"
   ]
  },
  {
   "cell_type": "code",
   "execution_count": 11,
   "metadata": {},
   "outputs": [],
   "source": [
    "res = requests.get('https://www.nirsoft.net/countryip/ie.html')\n",
    "soup = BeautifulSoup(res.content,'lxml')\n",
    "td_tags = soup.find_all('td') #217.183.255.255\n",
    "\n",
    "scraped_ip_numbers = []\n",
    "\n",
    "for td in td_tags:\n",
    "    ip_address = re.match(r'\\d\\d\\d.\\d\\d\\d.\\d\\d\\d.\\d\\d\\d',td.text)\n",
    "    if ip_address != None:\n",
    "        scraped_ip_numbers.append(ip_address.group(0))"
   ]
  },
  {
   "cell_type": "code",
   "execution_count": 12,
   "metadata": {},
   "outputs": [
    {
     "data": {
      "text/plain": [
       "['111.106.131.268',\n",
       " '99.268.272.252',\n",
       " '140.259.99.271',\n",
       " '140.201.245.275',\n",
       " '149.225.267.258',\n",
       " '140.218.257.255',\n",
       " '156.189.257.250',\n",
       " '143.191.133.260',\n",
       " '134.204.189.274',\n",
       " '140.210.222.242',\n",
       " '122.183.241.273',\n",
       " '159.209.274.263',\n",
       " '126.239.252.275',\n",
       " '136.250.242.236',\n",
       " '130.163.260.273',\n",
       " '139.162.270.255',\n",
       " '164.208.275.236',\n",
       " '167.154.132.244',\n",
       " '162.143.267.244',\n",
       " '170.172.248.264',\n",
       " '187.148.128.261',\n",
       " '171.169.158.267',\n",
       " '177.109.251.235',\n",
       " '187.169.116.266',\n",
       " '178.216.170.270',\n",
       " '187.97.163.264',\n",
       " '207.124.143.251',\n",
       " '186.128.142.237',\n",
       " '199.119.204.267',\n",
       " '210.130.234.243',\n",
       " '188.157.171.243',\n",
       " '201.118.141.247',\n",
       " '192.158.256.267',\n",
       " '214.168.249.237',\n",
       " '218.178.141.264',\n",
       " '199.176.275.273',\n",
       " '208.214.209.267',\n",
       " '228.244.143.270',\n",
       " '224.124.165.245',\n",
       " '223.104.136.237',\n",
       " '221.153.102.263',\n",
       " '208.184.225.246',\n",
       " '200.200.250.270']"
      ]
     },
     "execution_count": 12,
     "metadata": {},
     "output_type": "execute_result"
    }
   ],
   "source": [
    "bogus_ip_addresses = []\n",
    "\n",
    "for ip_address in scraped_ip_numbers:\n",
    "    random_ip_address = ''\n",
    "    for three_digits in ip_address.split('.'):\n",
    "        randomized_ip_address = int(three_digits) + random.randint(-20,20)\n",
    "        random_ip_address += str(randomized_ip_address)+'.'\n",
    "    bogus_ip_addresses.append(random_ip_address[:-1])"
   ]
  },
  {
   "cell_type": "markdown",
   "metadata": {},
   "source": [
    "## send the crap data to the scammers"
   ]
  },
  {
   "cell_type": "code",
   "execution_count": 13,
   "metadata": {},
   "outputs": [],
   "source": [
    "def createRandomFormData(i):\n",
    "    user_agent = user_agents[i%len(user_agents)]\n",
    "    ip_address = bogus_ip_addresses[2*i%len(bogus_ip_addresses)]\n",
    "    reg_number = str(random.randint(1000_0000,9999_9999))\n",
    "    pac_numbers = str(random.randint(10_000,99_999))\n",
    "    form_data = {\n",
    "        'ip': ip_address ,\n",
    "        'ua': user_agent,\n",
    "        'regNumber': reg_number,\n",
    "        'PACNumber': pac_numbers\n",
    "        }\n",
    "    return form_data"
   ]
  },
  {
   "cell_type": "code",
   "execution_count": 14,
   "metadata": {},
   "outputs": [
    {
     "name": "stdout",
     "output_type": "stream",
     "text": [
      "request number: 1 form data:  {'ip': '186.128.142.237', 'ua': 'Mozilla/5.0 (Linux; Android 7.0; SM-G892A Build/NRD90M; wv) AppleWebKit/537.36 (KHTML, like Gecko) Version/4.0 Chrome/60.0.3112.107 Mobile Safari/537.36', 'regNumber': '87402865', 'PACNumber': '94304'} status_code: 200\n",
      "request number: 2 form data:  {'ip': '143.191.133.260', 'ua': 'Mozilla/5.0 (Linux; Android 7.0; SM-G930V Build/NRD90M) AppleWebKit/537.36 (KHTML, like Gecko) Chrome/59.0.3071.125 Mobile Safari/537.36', 'regNumber': '21719656', 'PACNumber': '97783'} status_code: 200\n",
      "request number: 3 form data:  {'ip': '99.268.272.252', 'ua': 'Mozilla/5.0 (Linux; Android 6.0.1; SM-G935S Build/MMB29K; wv) AppleWebKit/537.36 (KHTML, like Gecko) Version/4.0 Chrome/55.0.2883.91 Mobile Safari/537.36', 'regNumber': '50150392', 'PACNumber': '43081'} status_code: 200\n",
      "request number: 4 form data:  {'ip': '199.119.204.267', 'ua': 'Mozilla/5.0 (Linux; Android 5.1.1; SM-G928X Build/LMY47X) AppleWebKit/537.36 (KHTML, like Gecko) Chrome/47.0.2526.83 Mobile Safari/537.36', 'regNumber': '48435424', 'PACNumber': '96146'} status_code: 200\n",
      "request number: 5 form data:  {'ip': '111.106.131.268', 'ua': 'Mozilla/5.0 (compatible; MSIE 10.0; Windows Phone 8.0; Trident/6.0; IEMobile/10.0; ARM; Touch; NOKIA; Lumia 920)', 'regNumber': '73598231', 'PACNumber': '21950'} status_code: 200\n",
      "request number: 6 form data:  {'ip': '207.124.143.251', 'ua': 'Mozilla/5.0 (Linux; Android 8.0.0; SM-G960F Build/R16NW) AppleWebKit/537.36 (KHTML, like Gecko) Chrome/62.0.3202.84 Mobile Safari/537.36', 'regNumber': '93727177', 'PACNumber': '83188'} status_code: 200\n",
      "request number: 7 form data:  {'ip': '187.148.128.261', 'ua': 'Mozilla/5.0 (Linux; Android 7.1.1; G8231 Build/41.2.A.0.219; wv) AppleWebKit/537.36 (KHTML, like Gecko) Version/4.0 Chrome/59.0.3071.125 Mobile Safari/537.36', 'regNumber': '45626502', 'PACNumber': '18763'} status_code: 200\n",
      "request number: 8 form data:  {'ip': '140.210.222.242', 'ua': 'Mozilla/5.0 (Linux; Android 7.0; SM-G930VC Build/NRD90M; wv) AppleWebKit/537.36 (KHTML, like Gecko) Version/4.0 Chrome/58.0.3029.83 Mobile Safari/537.36', 'regNumber': '95716872', 'PACNumber': '36965'} status_code: 200\n",
      "request number: 9 form data:  {'ip': '208.184.225.246', 'ua': 'Mozilla/5.0 (Linux; Android 6.0; HTC One M9 Build/MRA58K) AppleWebKit/537.36 (KHTML, like Gecko) Chrome/52.0.2743.98 Mobile Safari/537.3', 'regNumber': '22716198', 'PACNumber': '90627'} status_code: 200\n",
      "request number: 10 form data:  {'ip': '208.184.225.246', 'ua': 'Mozilla/5.0 (compatible; MSIE 10.0; Windows Phone 8.0; Trident/6.0; IEMobile/10.0; ARM; Touch; NOKIA; Lumia 920)', 'regNumber': '18393332', 'PACNumber': '60501'} status_code: 200\n",
      "request number: 11 form data:  {'ip': '130.163.260.273', 'ua': 'Mozilla/5.0 (Linux; Android 7.0; SAMSUNG SM-G955U Build/NRD90M) AppleWebKit/537.36 (KHTML, like Gecko) SamsungBrowser/5.4 Chrome/51.0.2704.106 Mobile Safari/537.36', 'regNumber': '16888361', 'PACNumber': '33700'} status_code: 200\n",
      "request number: 12 form data:  {'ip': '99.268.272.252', 'ua': 'Mozilla/5.0 (Linux; Android 6.0.1; E6653 Build/32.2.A.0.253) AppleWebKit/537.36 (KHTML, like Gecko) Chrome/52.0.2743.98 Mobile Safari/537.36', 'regNumber': '36372703', 'PACNumber': '77291'} status_code: 200\n",
      "request number: 13 form data:  {'ip': '199.176.275.273', 'ua': 'Mozilla/5.0 (Linux; U; Android 2.2; en-gb; Nexus One Build/FRF50) AppleWebKit/533.1 (KHTML, like Gecko) Version/4.0 Mobile Safari/533.1', 'regNumber': '77974230', 'PACNumber': '23422'} status_code: 200\n",
      "request number: 14 form data:  {'ip': '201.118.141.247', 'ua': 'Mozilla/5.0 (Linux; Android 6.0.1; E6653 Build/32.2.A.0.253) AppleWebKit/537.36 (KHTML, like Gecko) Chrome/52.0.2743.98 Mobile Safari/537.36', 'regNumber': '61811210', 'PACNumber': '14489'} status_code: 200\n",
      "request number: 15 form data:  {'ip': '143.191.133.260', 'ua': 'Mozilla/5.0 (iPhone; CPU iPhone OS 10_3_1 like Mac OS X) AppleWebKit/603.1.30 (KHTML, like Gecko) Version/10.0 Mobile/14E304 Safari/602.1', 'regNumber': '68188841', 'PACNumber': '88422'} status_code: 200\n",
      "request number: 16 form data:  {'ip': '136.250.242.236', 'ua': 'Mozilla/5.0 (Linux; Android 6.0; HTC One X10 Build/MRA58K; wv) AppleWebKit/537.36 (KHTML, like Gecko) Version/4.0 Chrome/61.0.3163.98 Mobile Safari/537.36', 'regNumber': '39433446', 'PACNumber': '65592'} status_code: 200\n",
      "request number: 17 form data:  {'ip': '167.154.132.244', 'ua': 'Mozilla/5.0 (Linux; Android 6.0.1; SM-G935S Build/MMB29K; wv) AppleWebKit/537.36 (KHTML, like Gecko) Version/4.0 Chrome/55.0.2883.91 Mobile Safari/537.36', 'regNumber': '14655857', 'PACNumber': '17741'} status_code: 200\n",
      "request number: 18 form data:  {'ip': '224.124.165.245', 'ua': 'Mozilla/5.0 (iPhone; CPU iPhone OS 10_3_1 like Mac OS X) AppleWebKit/603.1.30 (KHTML, like Gecko) Version/10.0 Mobile/14E304 Safari/602.1', 'regNumber': '26446722', 'PACNumber': '95201'} status_code: 200\n",
      "request number: 19 form data:  {'ip': '223.104.136.237', 'ua': 'Mozilla/5.0 (Linux; Android 8.0.0; SM-G960F Build/R16NW) AppleWebKit/537.36 (KHTML, like Gecko) Chrome/62.0.3202.84 Mobile Safari/537.36', 'regNumber': '67164934', 'PACNumber': '24762'} status_code: 200\n",
      "request number: 20 form data:  {'ip': '156.189.257.250', 'ua': 'Mozilla/5.0 (Linux; Android 7.1.1; G8231 Build/41.2.A.0.219; wv) AppleWebKit/537.36 (KHTML, like Gecko) Version/4.0 Chrome/59.0.3071.125 Mobile Safari/537.36', 'regNumber': '34051514', 'PACNumber': '99909'} status_code: 200\n",
      "request number: 21 form data:  {'ip': '134.204.189.274', 'ua': 'Mozilla/5.0 (Linux; Android 7.1.1; G8231 Build/41.2.A.0.219; wv) AppleWebKit/537.36 (KHTML, like Gecko) Version/4.0 Chrome/59.0.3071.125 Mobile Safari/537.36', 'regNumber': '82044092', 'PACNumber': '22615'} status_code: 200\n",
      "request number: 22 form data:  {'ip': '199.176.275.273', 'ua': 'Mozilla/5.0 (Linux; Android 8.0.0; SM-G960F Build/R16NW) AppleWebKit/537.36 (KHTML, like Gecko) Chrome/62.0.3202.84 Mobile Safari/537.36', 'regNumber': '54559793', 'PACNumber': '37238'} status_code: 200\n",
      "request number: 23 form data:  {'ip': '199.176.275.273', 'ua': 'Mozilla/5.0 (Linux; Android 8.0.0; SM-G960F Build/R16NW) AppleWebKit/537.36 (KHTML, like Gecko) Chrome/62.0.3202.84 Mobile Safari/537.36', 'regNumber': '23512002', 'PACNumber': '37678'} status_code: 200\n",
      "request number: 24 form data:  {'ip': '139.162.270.255', 'ua': 'Mozilla/5.0 (Linux; Android 7.0; SM-G930VC Build/NRD90M; wv) AppleWebKit/537.36 (KHTML, like Gecko) Version/4.0 Chrome/58.0.3029.83 Mobile Safari/537.36', 'regNumber': '19933637', 'PACNumber': '90272'} status_code: 200\n",
      "request number: 25 form data:  {'ip': '187.97.163.264', 'ua': 'Mozilla/5.0 (Linux; Android 6.0.1; Nexus 6P Build/MMB29P) AppleWebKit/537.36 (KHTML, like Gecko) Chrome/47.0.2526.83 Mobile Safari/537.36', 'regNumber': '41548564', 'PACNumber': '87060'} status_code: 200\n",
      "request number: 26 form data:  {'ip': '210.130.234.243', 'ua': 'Mozilla/5.0 (Linux; U; Android 2.2; en-gb; Nexus One Build/FRF50) AppleWebKit/533.1 (KHTML, like Gecko) Version/4.0 Mobile Safari/533.1', 'regNumber': '41583670', 'PACNumber': '12819'} status_code: 200\n",
      "request number: 27 form data:  {'ip': '170.172.248.264', 'ua': 'Mozilla/5.0 (Linux; Android 7.0; SAMSUNG SM-G955U Build/NRD90M) AppleWebKit/537.36 (KHTML, like Gecko) SamsungBrowser/5.4 Chrome/51.0.2704.106 Mobile Safari/537.36', 'regNumber': '31547805', 'PACNumber': '79546'} status_code: 200\n",
      "request number: 28 form data:  {'ip': '199.176.275.273', 'ua': 'Mozilla/5.0 (Linux; Android 6.0.1; E6653 Build/32.2.A.0.253) AppleWebKit/537.36 (KHTML, like Gecko) Chrome/52.0.2743.98 Mobile Safari/537.36', 'regNumber': '74228668', 'PACNumber': '13731'} status_code: 200\n",
      "request number: 29 form data:  {'ip': '111.106.131.268', 'ua': 'Mozilla/5.0 (compatible; MSIE 10.0; Windows Phone 8.0; Trident/6.0; IEMobile/10.0; ARM; Touch; NOKIA; Lumia 920)', 'regNumber': '36984589', 'PACNumber': '18647'} status_code: 200\n",
      "request number: 30 form data:  {'ip': '186.128.142.237', 'ua': 'Mozilla/5.0 (Linux; Android 6.0; HTC One M9 Build/MRA58K) AppleWebKit/537.36 (KHTML, like Gecko) Chrome/52.0.2743.98 Mobile Safari/537.3', 'regNumber': '89806534', 'PACNumber': '74848'} status_code: 200\n",
      "request number: 31 form data:  {'ip': '199.119.204.267', 'ua': 'Mozilla/5.0 (Linux; Android 6.0.1; Nexus 6P Build/MMB29P) AppleWebKit/537.36 (KHTML, like Gecko) Chrome/47.0.2526.83 Mobile Safari/537.36', 'regNumber': '61079568', 'PACNumber': '93590'} status_code: 200\n",
      "request number: 32 form data:  {'ip': '223.104.136.237', 'ua': 'Mozilla/5.0 (Linux; Android 6.0.1; Nexus 6P Build/MMB29P) AppleWebKit/537.36 (KHTML, like Gecko) Chrome/47.0.2526.83 Mobile Safari/537.36', 'regNumber': '99759716', 'PACNumber': '45405'} status_code: 200\n",
      "request number: 33 form data:  {'ip': '170.172.248.264', 'ua': 'Mozilla/5.0 (Linux; Android 6.0.1; Nexus 6P Build/MMB29P) AppleWebKit/537.36 (KHTML, like Gecko) Chrome/47.0.2526.83 Mobile Safari/537.36', 'regNumber': '72071652', 'PACNumber': '23060'} status_code: 200\n",
      "request number: 34 form data:  {'ip': '140.201.245.275', 'ua': 'Mozilla/5.0 (Linux; Android 5.1.1; SM-G928X Build/LMY47X) AppleWebKit/537.36 (KHTML, like Gecko) Chrome/47.0.2526.83 Mobile Safari/537.36', 'regNumber': '57461824', 'PACNumber': '93583'} status_code: 200\n",
      "request number: 35 form data:  {'ip': '210.130.234.243', 'ua': 'Mozilla/5.0 (Linux; U; Android 4.4.2; en-us; SCH-I535 Build/KOT49H) AppleWebKit/534.30 (KHTML, like Gecko) Version/4.0 Mobile Safari/534.30', 'regNumber': '89014566', 'PACNumber': '16932'} status_code: 200\n",
      "request number: 36 form data:  {'ip': '192.158.256.267', 'ua': 'Mozilla/5.0 (Linux; Android 7.0; SM-G930V Build/NRD90M) AppleWebKit/537.36 (KHTML, like Gecko) Chrome/59.0.3071.125 Mobile Safari/537.36', 'regNumber': '74548514', 'PACNumber': '52834'} status_code: 200\n",
      "request number: 37 form data:  {'ip': '201.118.141.247', 'ua': 'Mozilla/5.0 (Linux; Android 8.0.0; SM-G960F Build/R16NW) AppleWebKit/537.36 (KHTML, like Gecko) Chrome/62.0.3202.84 Mobile Safari/537.36', 'regNumber': '70098766', 'PACNumber': '80768'} status_code: 200\n",
      "request number: 38 form data:  {'ip': '187.169.116.266', 'ua': 'Mozilla/5.0 (Linux; Android 6.0.1; SM-G935S Build/MMB29K; wv) AppleWebKit/537.36 (KHTML, like Gecko) Version/4.0 Chrome/55.0.2883.91 Mobile Safari/537.36', 'regNumber': '27716892', 'PACNumber': '91249'} status_code: 200\n",
      "request number: 39 form data:  {'ip': '140.201.245.275', 'ua': 'Mozilla/5.0 (Linux; Android 6.0.1; Nexus 6P Build/MMB29P) AppleWebKit/537.36 (KHTML, like Gecko) Chrome/47.0.2526.83 Mobile Safari/537.36', 'regNumber': '61722784', 'PACNumber': '40089'} status_code: 200\n",
      "request number: 40 form data:  {'ip': '111.106.131.268', 'ua': 'Mozilla/5.0 (Linux; U; Android 2.2; en-gb; Nexus One Build/FRF50) AppleWebKit/533.1 (KHTML, like Gecko) Version/4.0 Mobile Safari/533.1', 'regNumber': '55470845', 'PACNumber': '30199'} status_code: 200\n",
      "request number: 41 form data:  {'ip': '199.119.204.267', 'ua': 'Mozilla/5.0 (Linux; Android 6.0.1; Nexus 6P Build/MMB29P) AppleWebKit/537.36 (KHTML, like Gecko) Chrome/47.0.2526.83 Mobile Safari/537.36', 'regNumber': '84135713', 'PACNumber': '45438'} status_code: 200\n",
      "request number: 42 form data:  {'ip': '171.169.158.267', 'ua': 'Mozilla/5.0 (Linux; Android 6.0.1; E6653 Build/32.2.A.0.253) AppleWebKit/537.36 (KHTML, like Gecko) Chrome/52.0.2743.98 Mobile Safari/537.36', 'regNumber': '55715301', 'PACNumber': '50427'} status_code: 200\n",
      "request number: 43 form data:  {'ip': '162.143.267.244', 'ua': 'Mozilla/5.0 (Linux; U; Android 2.2; en-gb; Nexus One Build/FRF50) AppleWebKit/533.1 (KHTML, like Gecko) Version/4.0 Mobile Safari/533.1', 'regNumber': '85403196', 'PACNumber': '36906'} status_code: 200\n",
      "request number: 44 form data:  {'ip': '130.163.260.273', 'ua': 'Mozilla/5.0 (Linux; Android 7.0; SM-G892A Build/NRD90M; wv) AppleWebKit/537.36 (KHTML, like Gecko) Version/4.0 Chrome/60.0.3112.107 Mobile Safari/537.36', 'regNumber': '50264709', 'PACNumber': '71981'} status_code: 200\n",
      "request number: 45 form data:  {'ip': '136.250.242.236', 'ua': 'Mozilla/5.0 (Linux; Android 7.0; SM-G930VC Build/NRD90M; wv) AppleWebKit/537.36 (KHTML, like Gecko) Version/4.0 Chrome/58.0.3029.83 Mobile Safari/537.36', 'regNumber': '53556131', 'PACNumber': '82607'} status_code: 200\n",
      "request number: 46 form data:  {'ip': '201.118.141.247', 'ua': 'Mozilla/5.0 (Linux; Android 7.0; SM-G930VC Build/NRD90M; wv) AppleWebKit/537.36 (KHTML, like Gecko) Version/4.0 Chrome/58.0.3029.83 Mobile Safari/537.36', 'regNumber': '23103061', 'PACNumber': '69129'} status_code: 200\n",
      "request number: 47 form data:  {'ip': '164.208.275.236', 'ua': 'Mozilla/5.0 (Linux; Android 6.0.1; SM-G935S Build/MMB29K; wv) AppleWebKit/537.36 (KHTML, like Gecko) Version/4.0 Chrome/55.0.2883.91 Mobile Safari/537.36', 'regNumber': '82162088', 'PACNumber': '43009'} status_code: 200\n",
      "request number: 48 form data:  {'ip': '201.118.141.247', 'ua': 'Mozilla/5.0 (Linux; Android 7.0; SM-G930V Build/NRD90M) AppleWebKit/537.36 (KHTML, like Gecko) Chrome/59.0.3071.125 Mobile Safari/537.36', 'regNumber': '88272687', 'PACNumber': '59652'} status_code: 200\n",
      "request number: 49 form data:  {'ip': '99.268.272.252', 'ua': 'Mozilla/5.0 (Linux; Android 6.0; HTC One M9 Build/MRA58K) AppleWebKit/537.36 (KHTML, like Gecko) Chrome/52.0.2743.98 Mobile Safari/537.3', 'regNumber': '96465104', 'PACNumber': '71840'} status_code: 200\n",
      "request number: 50 form data:  {'ip': '218.178.141.264', 'ua': 'Mozilla/5.0 (Linux; Android 8.0.0; SM-G960F Build/R16NW) AppleWebKit/537.36 (KHTML, like Gecko) Chrome/62.0.3202.84 Mobile Safari/537.36', 'regNumber': '43773617', 'PACNumber': '49666'} status_code: 200\n",
      "request number: 51 form data:  {'ip': '140.210.222.242', 'ua': 'Mozilla/5.0 (Linux; Android 7.0; SM-G930V Build/NRD90M) AppleWebKit/537.36 (KHTML, like Gecko) Chrome/59.0.3071.125 Mobile Safari/537.36', 'regNumber': '85075096', 'PACNumber': '91785'} status_code: 200\n",
      "request number: 52 form data:  {'ip': '130.163.260.273', 'ua': 'Mozilla/5.0 (Linux; Android 6.0.1; SM-G935S Build/MMB29K; wv) AppleWebKit/537.36 (KHTML, like Gecko) Version/4.0 Chrome/55.0.2883.91 Mobile Safari/537.36', 'regNumber': '47466551', 'PACNumber': '63839'} status_code: 200\n",
      "request number: 53 form data:  {'ip': '162.143.267.244', 'ua': 'Mozilla/5.0 (Linux; Android 6.0.1; E6653 Build/32.2.A.0.253) AppleWebKit/537.36 (KHTML, like Gecko) Chrome/52.0.2743.98 Mobile Safari/537.36', 'regNumber': '97330996', 'PACNumber': '36338'} status_code: 200\n",
      "request number: 54 form data:  {'ip': '186.128.142.237', 'ua': 'Mozilla/5.0 (Linux; Android 8.0.0; SM-G960F Build/R16NW) AppleWebKit/537.36 (KHTML, like Gecko) Chrome/62.0.3202.84 Mobile Safari/537.36', 'regNumber': '49657610', 'PACNumber': '52019'} status_code: 200\n",
      "request number: 55 form data:  {'ip': '207.124.143.251', 'ua': 'Mozilla/5.0 (Linux; Android 7.0; SM-G930V Build/NRD90M) AppleWebKit/537.36 (KHTML, like Gecko) Chrome/59.0.3071.125 Mobile Safari/537.36', 'regNumber': '15931258', 'PACNumber': '19101'} status_code: 200\n",
      "request number: 56 form data:  {'ip': '187.97.163.264', 'ua': 'Mozilla/5.0 (Linux; Android 6.0; HTC One M9 Build/MRA58K) AppleWebKit/537.36 (KHTML, like Gecko) Chrome/52.0.2743.98 Mobile Safari/537.3', 'regNumber': '24257928', 'PACNumber': '78357'} status_code: 200\n",
      "request number: 57 form data:  {'ip': '187.148.128.261', 'ua': 'Mozilla/5.0 (Linux; U; Android 2.2; en-gb; Nexus One Build/FRF50) AppleWebKit/533.1 (KHTML, like Gecko) Version/4.0 Mobile Safari/533.1', 'regNumber': '91396633', 'PACNumber': '27393'} status_code: 200\n",
      "request number: 58 form data:  {'ip': '218.178.141.264', 'ua': 'Mozilla/5.0 (Linux; Android 6.0.1; E6653 Build/32.2.A.0.253) AppleWebKit/537.36 (KHTML, like Gecko) Chrome/52.0.2743.98 Mobile Safari/537.36', 'regNumber': '83840642', 'PACNumber': '53134'} status_code: 200\n",
      "request number: 59 form data:  {'ip': '122.183.241.273', 'ua': 'Mozilla/5.0 (Linux; Android 7.0; SM-G930VC Build/NRD90M; wv) AppleWebKit/537.36 (KHTML, like Gecko) Version/4.0 Chrome/58.0.3029.83 Mobile Safari/537.36', 'regNumber': '30245026', 'PACNumber': '15355'} status_code: 200\n",
      "request number: 60 form data:  {'ip': '111.106.131.268', 'ua': 'Mozilla/5.0 (Linux; U; Android 4.4.2; en-us; SCH-I535 Build/KOT49H) AppleWebKit/534.30 (KHTML, like Gecko) Version/4.0 Mobile Safari/534.30', 'regNumber': '71678464', 'PACNumber': '56737'} status_code: 200\n",
      "request number: 61 form data:  {'ip': '207.124.143.251', 'ua': 'Mozilla/5.0 (Linux; Android 7.0; SM-G930V Build/NRD90M) AppleWebKit/537.36 (KHTML, like Gecko) Chrome/59.0.3071.125 Mobile Safari/537.36', 'regNumber': '85472625', 'PACNumber': '55744'} status_code: 200\n",
      "request number: 62 form data:  {'ip': '111.106.131.268', 'ua': 'Mozilla/5.0 (Linux; U; Android 2.2; en-gb; Nexus One Build/FRF50) AppleWebKit/533.1 (KHTML, like Gecko) Version/4.0 Mobile Safari/533.1', 'regNumber': '65444966', 'PACNumber': '25691'} status_code: 200\n",
      "request number: 63 form data:  {'ip': '162.143.267.244', 'ua': 'Mozilla/5.0 (compatible; MSIE 10.0; Windows Phone 8.0; Trident/6.0; IEMobile/10.0; ARM; Touch; NOKIA; Lumia 920)', 'regNumber': '24998478', 'PACNumber': '44289'} status_code: 200\n"
     ]
    }
   ],
   "source": [
    "post_url = 'https://aib.ie1.online/files/action.php?type=login'\n",
    "\n",
    "for i in range(1,4000):\n",
    "    form_data = createRandomFormData(random.randint(1,1_000_000))\n",
    "    post = requests.post(post_url,data = form_data)\n",
    "    print('request number:',i,'form data: ',form_data,'status_code:',post.status_code)\n",
    "    time.sleep(2)"
   ]
  }
 ],
 "metadata": {
  "interpreter": {
   "hash": "ae2037509f7796e7dcb5ea677fdc99d98b7468403ca89d0cf62abf22d753c8aa"
  },
  "kernelspec": {
   "display_name": "Python 3.8.2 64-bit",
   "language": "python",
   "name": "python3"
  },
  "language_info": {
   "codemirror_mode": {
    "name": "ipython",
    "version": 3
   },
   "file_extension": ".py",
   "mimetype": "text/x-python",
   "name": "python",
   "nbconvert_exporter": "python",
   "pygments_lexer": "ipython3",
   "version": "3.8.2"
  },
  "orig_nbformat": 4
 },
 "nbformat": 4,
 "nbformat_minor": 2
}
